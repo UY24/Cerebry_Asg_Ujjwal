{
 "cells": [
  {
   "cell_type": "code",
   "execution_count": 4,
   "metadata": {},
   "outputs": [
    {
     "name": "stdout",
     "output_type": "stream",
     "text": [
      "Entered binary tree :  1\n",
      "Post Order Traversal :  [4, 5, 2, 6, 7, 3, 1]\n"
     ]
    }
   ],
   "source": [
    "class Node:\n",
    "    def __init__(self, val=0, left=None, right=None):\n",
    "        self.val = val\n",
    "        self.left = left\n",
    "        self.right = right\n",
    "\n",
    "def post_order_iterative(root):\n",
    "    if root is None:\n",
    "        return []\n",
    "\n",
    "    stack1 = [root]\n",
    "    stack2 = []\n",
    "\n",
    "    while stack1:\n",
    "        node = stack1.pop()\n",
    "        stack2.append(node)\n",
    "\n",
    "        if node.left:\n",
    "            stack1.append(node.left)\n",
    "\n",
    "        if node.right:\n",
    "            stack1.append(node.right)\n",
    "\n",
    "    result = []\n",
    "    while stack2:\n",
    "        node = stack2.pop()\n",
    "        result.append(node.val)\n",
    "\n",
    "    return result\n",
    "\n",
    "def main():\n",
    "    # create a binary tree\n",
    "    root = Node(1)\n",
    "    root.left = Node(2)\n",
    "    root.right = Node(3)\n",
    "    root.left.left = Node(4)\n",
    "    root.left.right = Node(5)\n",
    "    root.right.left = Node(6)\n",
    "    root.right.right = Node(7)\n",
    "\n",
    "    # perform post-order traversal and print out the node values\n",
    "    print(\"Post Order Traversal : \" , post_order_iterative(root))  # should output: [4, 5, 2, 6, 7, 3, 1]\n",
    "\n",
    "if __name__ == \"__main__\":\n",
    "    main()\n"
   ]
  },
  {
   "cell_type": "code",
   "execution_count": null,
   "metadata": {},
   "outputs": [],
   "source": []
  }
 ],
 "metadata": {
  "kernelspec": {
   "display_name": "Python 3",
   "language": "python",
   "name": "python3"
  },
  "language_info": {
   "codemirror_mode": {
    "name": "ipython",
    "version": 3
   },
   "file_extension": ".py",
   "mimetype": "text/x-python",
   "name": "python",
   "nbconvert_exporter": "python",
   "pygments_lexer": "ipython3",
   "version": "3.11.1"
  },
  "orig_nbformat": 4,
  "vscode": {
   "interpreter": {
    "hash": "767d51c1340bd893661ea55ea3124f6de3c7a262a8b4abca0554b478b1e2ff90"
   }
  }
 },
 "nbformat": 4,
 "nbformat_minor": 2
}
